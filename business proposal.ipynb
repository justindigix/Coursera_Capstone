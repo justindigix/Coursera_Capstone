{
    "cells": [
        {
            "cell_type": "markdown",
            "metadata": {
                "collapsed": true
            },
            "source": "# The Battle of Neighborhoods \n\n## Business Proposal"
        },
        {
            "cell_type": "markdown",
            "metadata": {},
            "source": "### Introduction"
        },
        {
            "cell_type": "markdown",
            "metadata": {},
            "source": "### Problem to solve\n\nThe purpose of this project is to suggest a more suitable neighborhood in a new city for a new immigrant or a visitor for a staying over months,  in terms of living costs, social presence, traffic connectivity, and joyful equipment. "
        },
        {
            "cell_type": "markdown",
            "metadata": {},
            "source": "### The Location: Toronto\n\nToronto is the capital city of the Canadian province of Ontario. With a recorded population of 2,731,571, it is the most populous city in Canada and the fourth most populous city in North America. The city is the anchor of the Golden Horseshoe, an urban agglomeration of 9,245,438 people (as of 2016) surrounding the western end of Lake Ontario, while the Greater Toronto Area (GTA) proper had a 2016 population of 6,417,516. Toronto is an international center of business, finance, arts, and culture and is recognized as one of the most multicultural and cosmopolitan cities globally.\n\nThe diverse population of Toronto reflects its current and historical role as an important destination for immigrants to Canada. More than 50 percent of residents belong to a visible minority population group, and over 200 distinct ethnic origins are represented among its inhabitants. While most Torontonians speak English as their primary language, over 160 languages are spoken in the city.\n\nToronto is a prominent center for music, theatre, motion picture production, and television production and is home to the headquarters of Canada's major national broadcast networks and media outlets. Its various cultural institutions, including numerous museums and galleries, festivals and public events, entertainment districts, national historic sites, and sports activities, attract over 43 million tourists each year. Toronto is known for its many skyscrapers and high-rise buildings, particularly the tallest free-standing structure in the Western Hemisphere, the CN Tower. "
        },
        {
            "cell_type": "markdown",
            "metadata": {},
            "source": "### Foursquare API:\n\nThis project would use Foursquare API as a data source since it has a database of millions of places, especially their places API, which provides the ability to perform venues search, venues explorering, and details about venues."
        },
        {
            "cell_type": "markdown",
            "metadata": {},
            "source": "### Work Flow:\n\nUsing credentials of Foursquare API, features of near-by places of the neighborhoods can be mined. Due to HTTP request limitations, the number of venues per neighborhood parameter and the radius parameter would reasonably be set as the code underneath.\n\n```python\nLIMIT = 100\nradius = 500\n```"
        },
        {
            "cell_type": "markdown",
            "metadata": {},
            "source": "### Clustering Approach:\n\nTo compare the similarities of two postal districts, we decided to explore the venues in their neighborhoods, segment them, and group them into clusters to find similar communities. To do that, we need to cluster data which is a form of unsupervised machine learning: k-means clustering algorithm. Besides, we will try to find the best k-value for clustering optimization."
        },
        {
            "cell_type": "markdown",
            "metadata": {},
            "source": "### Dependencies and libraries:\n\n- Pandas: to construct dataframes for data analyzing and data manipulating\n\n- Folium: Python visualization library to visualize the data based on geographic information. \n\n- Scikit Learn: to construct machine learning model and pipes i.e., k-means clustering.\n\n- JSON: to handle JSON files.\n\n- Geocoder: to retrieve Location coordinates.\n\n- Beautiful Soup: To carry out webscrapping\n\n- Requests: to handle HTTP requests and response\n\n- Matplotlib: To plot data charts"
        },
        {
            "cell_type": "code",
            "execution_count": null,
            "metadata": {},
            "outputs": [],
            "source": ""
        }
    ],
    "metadata": {
        "kernelspec": {
            "display_name": "Python 3.7",
            "language": "python",
            "name": "python3"
        },
        "language_info": {
            "codemirror_mode": {
                "name": "ipython",
                "version": 3
            },
            "file_extension": ".py",
            "mimetype": "text/x-python",
            "name": "python",
            "nbconvert_exporter": "python",
            "pygments_lexer": "ipython3",
            "version": "3.7.10"
        }
    },
    "nbformat": 4,
    "nbformat_minor": 1
}