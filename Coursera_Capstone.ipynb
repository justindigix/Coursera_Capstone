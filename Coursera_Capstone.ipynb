{
    "cells": [
        {
            "cell_type": "markdown",
            "metadata": {
                "collapsed": true
            },
            "source": "Now, start a Jupyter Notebook using any platform that you are comfortable with and do the following:\n\n    Write some markdown to explain that this notebook will be mainly used for the capstone project.\n    Import the pandas library as pd.\n    Import the Numpy library as np.\n    Print the following the statement: Hello Capstone Project Course!\n\nPush the Notebook to your Github repository and submit a link to the notebook on your Github repository."
        },
        {
            "cell_type": "code",
            "execution_count": null,
            "metadata": {},
            "outputs": [],
            "source": "import pandas as pd\nimport numpy as np\n\nprint('Hello Capstone Project Course!')"
        }
    ],
    "metadata": {
        "kernelspec": {
            "display_name": "Python 3.7",
            "language": "python",
            "name": "python3"
        },
        "language_info": {
            "codemirror_mode": {
                "name": "ipython",
                "version": 3
            },
            "file_extension": ".py",
            "mimetype": "text/x-python",
            "name": "python",
            "nbconvert_exporter": "python",
            "pygments_lexer": "ipython3",
            "version": "3.7.10"
        }
    },
    "nbformat": 4,
    "nbformat_minor": 1
}