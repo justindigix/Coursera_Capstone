{
    "cells": [
        {
            "cell_type": "markdown",
            "metadata": {
                "collapsed": true
            },
            "source": "# The Battle of Neighborhoods\n\n## Data description"
        },
        {
            "cell_type": "markdown",
            "metadata": {},
            "source": "### Postal codes of Toronto\n\nData Link: https://en.wikipedia.org/wiki/List_of_postal_codes_of_Canada:_M\n\nThis data source contains the borough, neighbourhoods in terms of postal codes."
        },
        {
            "cell_type": "markdown",
            "metadata": {},
            "source": "### Location coordinates with respect to postal codes of Toronto\n\nData Link: http://cocl.us/Geospatial_data\n\nThis data source contains the locations of boroughs/neighbourhoods (latitude and longitude) in terms of postal codes."
        },
        {
            "cell_type": "markdown",
            "metadata": {},
            "source": "### Foursqure API\n\nThe data retrieved from Foursquare contained information of venues within a specified distance of the longitude and latitude of the postcodes."
        },
        {
            "cell_type": "markdown",
            "metadata": {},
            "source": "### Data specifications:\n\n1. Neighborhood\n2. Neighborhood Latitude\n3. Neighborhood Longitude\n4. Venue\n5. Name of the venue e.g. the name of a store or restaurant\n6. Venue Latitude\n7. Venue Longitude\n8. Venue Category"
        }
    ],
    "metadata": {
        "kernelspec": {
            "display_name": "Python 3.7",
            "language": "python",
            "name": "python3"
        },
        "language_info": {
            "codemirror_mode": {
                "name": "ipython",
                "version": 3
            },
            "file_extension": ".py",
            "mimetype": "text/x-python",
            "name": "python",
            "nbconvert_exporter": "python",
            "pygments_lexer": "ipython3",
            "version": "3.7.10"
        }
    },
    "nbformat": 4,
    "nbformat_minor": 1
}