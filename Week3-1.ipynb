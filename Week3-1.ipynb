{
    "cells": [
        {
            "cell_type": "markdown",
            "metadata": {
                "collapsed": true
            },
            "source": "# Peer-graded Assignment: Segmenting and Clustering Neighborhoods in Toronto\n\n## To explore and cluster the neighborhoods in Toronto\n\n### Part I\n\n\n"
        },
        {
            "cell_type": "markdown",
            "metadata": {},
            "source": "#### Tasks:\n1. Start by creating a new Notebook for this assignment.\n2. Webscraping Updated Table\n\n##### Tips for  Webscraping Updated Table in Week3 Peer Graded Assignment\n\n **After retreiving the URL and creating a Beautiful soup object** \n\n **Firstly create a list**  \n\n **Later after finding the table and table data  create a dictionary called cell having 3 keys PostalCode, Borough and Neighborhood.**\n\n**As postal code contains upto 3 characters extract that using tablerow.p.text**\n\n **Next use split ,strip and replace functions for getting Borough and Neighborhood information.**.\n\n **Append to the list**  \n\n **Create a dataframe with list**\n\n##### Sample code\n\n```python\ntable_contents=[]\ntable=soup.find('table')\nfor row in table.findAll('td'):\n    cell = {}\n    if row.span.text=='Not assigned':\n        pass\n    else:\n        cell['PostalCode'] = row.p.text[:3]\n        cell['Borough'] = (row.span.text).split('(')[0]\n        cell['Neighborhood'] = (((((row.span.text).split('(')[1]).strip(')')).replace(' /',',')).replace(')',' ')).strip(' ')\n        table_contents.append(cell)\n\n# print(table_contents)\ndf=pd.DataFrame(table_contents)\ndf['Borough']=df['Borough'].replace({'Downtown TorontoStn A PO Boxes25 The Esplanade':'Downtown Toronto Stn A',\n                                             'East TorontoBusiness reply mail Processing Centre969 Eastern':'East Toronto Business',\n                                             'EtobicokeNorthwest':'Etobicoke Northwest','East YorkEast Toronto':'East York/East Toronto',\n                                             'MississaugaCanada Post Gateway Processing Centre':'Mississauga'})\n```\n3. To create the above dataframe:\n\n    The dataframe will consist of three columns: PostalCode, Borough, and Neighborhood\n    Only process the cells that have an assigned borough. Ignore cells with a borough that is Not assigned.\n    More than one neighborhood can exist in one postal code area. For example, in the table on the Wikipedia page, you will notice that M5A is listed twice and has two neighborhoods: Harbourfront and Regent Park. These two rows will be combined into one row with the neighborhoods separated with a comma as shown in row 11  in the above table.\n\n    If a cell has a borough but a Not assigned  neighborhood, then the neighborhood will be the same as the borough.\n    Clean your Notebook and add Markdown cells to explain your work and any assumptions you are making.\n    In the last cell of your notebook, use the .shape method to print the number of rows of your dataframe.\n\n4. Submit a link to your Notebook on your Github repository.(10 marks)\n\nNote: There are different website scraping libraries and packages in Python. For scraping the above table, you can simply use pandas  to read the table into a pandas dataframe.\n\nAnother way, which would help to learn for more complicated cases of web scraping is using the BeautifulSoup package. Here is the package's main documentation page: http://beautiful-soup-4.readthedocs.io/en/latest/\n\nUse pandas, or the BeautifulSoup package, or any other way you are comfortable with to transform the data in the table on the Wikipedia page into the above pandas dataframe."
        },
        {
            "cell_type": "code",
            "execution_count": 1,
            "metadata": {},
            "outputs": [],
            "source": "import pandas as pd\nimport requests\nfrom bs4 import BeautifulSoup\n"
        },
        {
            "cell_type": "code",
            "execution_count": 2,
            "metadata": {},
            "outputs": [],
            "source": "url = 'https://en.wikipedia.org/wiki/List_of_postal_codes_of_Canada:_M'\nresponse = requests.get(url)\nhtml_doc = response.text\nsoup = BeautifulSoup(html_doc, 'html.parser')\ntable_contents=[]\ntable=soup.find('table')\nfor row in table.findAll('td'):\n    cell = {}\n    if row.span.text=='Not assigned':\n        pass\n    else:\n        cell['PostalCode'] = row.p.text[:3]\n        cell['Borough'] = (row.span.text).split('(')[0]\n        # cell['Neighborhood'] = (((((row.span.text).split('(')[1:]).strip(')')).replace(' /',',')).replace(')',' ')).strip(' ')\n        borough_list = (row.span.text).split('(')[1:]\n        borough_list = [x.replace(' /', ',').replace(')',' ').strip(' ') for x in borough_list]\n        cell['Neighborhood'] = ', '.join(borough_list)\n        table_contents.append(cell)"
        },
        {
            "cell_type": "code",
            "execution_count": 11,
            "metadata": {},
            "outputs": [],
            "source": "df = pd.DataFrame(table_contents)\nassert(df[df['Borough'] == 'Not assigned'].shape == (0, 3))\n"
        },
        {
            "cell_type": "code",
            "execution_count": 12,
            "metadata": {},
            "outputs": [
                {
                    "data": {
                        "text/plain": "(103, 3)"
                    },
                    "execution_count": 12,
                    "metadata": {},
                    "output_type": "execute_result"
                }
            ],
            "source": "df.shape"
        },
        {
            "cell_type": "code",
            "execution_count": null,
            "metadata": {},
            "outputs": [],
            "source": ""
        }
    ],
    "metadata": {
        "kernelspec": {
            "display_name": "Python 3.7",
            "language": "python",
            "name": "python3"
        },
        "language_info": {
            "codemirror_mode": {
                "name": "ipython",
                "version": 3
            },
            "file_extension": ".py",
            "mimetype": "text/x-python",
            "name": "python",
            "nbconvert_exporter": "python",
            "pygments_lexer": "ipython3",
            "version": "3.7.10"
        }
    },
    "nbformat": 4,
    "nbformat_minor": 1
}